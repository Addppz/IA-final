{
 "cells": [
  {
   "cell_type": "markdown",
   "metadata": {},
   "source": [
    "Analisis exploratorio de datos"
   ]
  },
  {
   "cell_type": "code",
   "execution_count": null,
   "metadata": {},
   "outputs": [],
   "source": [
    "import pandas as pd\n",
    "import matplotlib.pyplot as plt\n",
    "import seaborn as sns\n",
    "\n",
    "# Configuración visual\n",
    "sns.set(style=\"whitegrid\")\n",
    "\n",
    "# Cargar el archivo CSV\n",
    "df = pd.read_csv('bank.csv', sep=';')\n",
    "\n",
    "# Ver las primeras filas\n",
    "display(df.head())\n",
    "\n",
    "# Información general del dataset\n",
    "print(\"Información general:\")\n",
    "df.info()\n",
    "\n",
    "# Estadísticas descriptivas para variables numéricas\n",
    "print(\"\\nEstadísticas descriptivas:\")\n",
    "display(df.describe())"
   ]
  },
  {
   "cell_type": "markdown",
   "metadata": {},
   "source": [
    "Analizar la variable objetivo : 'y'"
   ]
  },
  {
   "cell_type": "code",
   "execution_count": null,
   "metadata": {},
   "outputs": [],
   "source": [
    "# Distribución de la variable objetivo\n",
    "print(\"Distribución de la variable 'y':\")\n",
    "print(df['y'].value_counts(normalize=True))  # proporciones\n",
    "\n",
    "# Gráfico de distribución\n",
    "sns.countplot(x='y', data=df)\n",
    "plt.title('Distribución de la variable objetivo (¿Contrato el depósito?)')\n",
    "plt.show()\n",
    "\n"
   ]
  },
  {
   "cell_type": "markdown",
   "metadata": {},
   "source": [
    "Analisis de valores nulos y unknown"
   ]
  },
  {
   "cell_type": "code",
   "execution_count": null,
   "metadata": {},
   "outputs": [],
   "source": [
    "# Análisis combinado de valores nulos y unknown\n",
    "print(\"Análisis de valores nulos y unknown por columna:\")\n",
    "\n",
    "# Crear un DataFrame para el análisis\n",
    "null_analysis = pd.DataFrame({\n",
    "    'Valores_Nulos': df.isnull().sum(),\n",
    "    'Valores_Unknown': (df == 'unknown').sum(),\n",
    "    'Total_Registros': len(df)\n",
    "})\n",
    "\n",
    "# Calcular porcentajes\n",
    "null_analysis['Porcentaje_Nulos'] = (null_analysis['Valores_Nulos'] / null_analysis['Total_Registros']) * 100\n",
    "null_analysis['Porcentaje_Unknown'] = (null_analysis['Valores_Unknown'] / null_analysis['Total_Registros']) * 100\n",
    "\n",
    "# Mostrar solo las columnas que tienen valores nulos o unknown\n",
    "null_analysis = null_analysis[(null_analysis['Valores_Nulos'] > 0) | (null_analysis['Valores_Unknown'] > 0)]\n",
    "print(\"\\nResumen de valores nulos y unknown:\")\n",
    "print(null_analysis)\n",
    "\n",
    "# Visualización\n",
    "plt.figure(figsize=(12, 6))\n",
    "null_analysis[['Porcentaje_Nulos', 'Porcentaje_Unknown']].plot(kind='bar')\n",
    "plt.title('Porcentaje de Valores Nulos y Unknown por Columna')\n",
    "plt.xlabel('Columnas')\n",
    "plt.ylabel('Porcentaje')\n",
    "plt.xticks(rotation=45)\n",
    "plt.tight_layout()\n",
    "plt.show()\n",
    "\n",
    "# Análisis detallado de las columnas con valores unknown\n",
    "print(\"\\nAnálisis detallado de valores 'unknown' por columna:\")\n",
    "for column in df.columns:\n",
    "    if (df[column] == 'unknown').any():\n",
    "        print(f\"\\nColumna: {column}\")\n",
    "        print(\"Distribución de valores:\")\n",
    "        print(df[column].value_counts(normalize=True).round(3))"
   ]
  },
  {
   "cell_type": "markdown",
   "metadata": {},
   "source": [
    "Determinar los atributos mas importantes con respecto a la clase objetivo"
   ]
  },
  {
   "cell_type": "code",
   "execution_count": null,
   "metadata": {},
   "outputs": [],
   "source": [
    "import pandas as pd\n",
    "import numpy as np\n",
    "import matplotlib.pyplot as plt\n",
    "import seaborn as sns\n",
    "from sklearn.preprocessing import LabelEncoder\n",
    "from sklearn.ensemble import RandomForestClassifier\n",
    "\n",
    "# Configuración visual\n",
    "sns.set(style=\"whitegrid\")\n",
    "\n",
    "# Cargar el archivo CSV\n",
    "df_visualizar = pd.read_csv('bank.csv', sep=';')\n",
    "\n",
    "# Preparación de datos para el análisis\n",
    "# Convertir la variable objetivo a numérica\n",
    "le = LabelEncoder()\n",
    "df_visualizar['y'] = le.fit_transform(df_visualizar['y'])\n",
    "\n",
    "# Convertir variables categóricas a numéricas\n",
    "categorical_columns = df.select_dtypes(include=['object']).columns\n",
    "for col in categorical_columns:\n",
    "    df_visualizar[col] = le.fit_transform(df_visualizar[col])\n",
    "\n",
    "# 1. Análisis de correlación\n",
    "plt.figure(figsize=(12, 8))\n",
    "correlation_matrix = df_visualizar.corr()\n",
    "sns.heatmap(correlation_matrix, annot=True, cmap='coolwarm', center=0)\n",
    "plt.title('Matriz de Correlación')\n",
    "plt.tight_layout()\n",
    "plt.show()\n",
    "\n",
    "# 2. Análisis de importancia de características usando Random Forest\n",
    "X = df_visualizar.drop('y', axis=1)\n",
    "y = df_visualizar['y']\n",
    "\n",
    "# Entrenar un modelo Random Forest\n",
    "rf = RandomForestClassifier(n_estimators=100, random_state=42)\n",
    "rf.fit(X, y)\n",
    "\n",
    "# Obtener importancia de características\n",
    "feature_importance = pd.DataFrame({\n",
    "    'Característica': X.columns,\n",
    "    'Importancia': rf.feature_importances_\n",
    "})\n",
    "feature_importance = feature_importance.sort_values('Importancia', ascending=False)\n",
    "\n",
    "# Visualizar importancia de características\n",
    "plt.figure(figsize=(12, 6))\n",
    "sns.barplot(x='Importancia', y='Característica', data=feature_importance)\n",
    "plt.title('Importancia de Características (Random Forest)')\n",
    "plt.tight_layout()\n",
    "plt.show()\n",
    "\n",
    "# Mostrar las características más importantes\n",
    "print(\"\\nTop 10 características más importantes:\")\n",
    "print(feature_importance.head(10))"
   ]
  },
  {
   "cell_type": "markdown",
   "metadata": {},
   "source": [
    "Convertir los unknown a nulos"
   ]
  },
  {
   "cell_type": "code",
   "execution_count": null,
   "metadata": {},
   "outputs": [],
   "source": [
    "# Primero, veamos cuántos valores 'unknown' hay antes de la limpieza\n",
    "print(\"Antes de la limpieza:\")\n",
    "print(df.isin(['unknown']).sum())\n",
    "\n",
    "# Crear una copia del DataFrame\n",
    "df_clean = df.copy()\n",
    "\n",
    "# Reemplazar 'unknown' con NaN\n",
    "df_clean = df_clean.replace('unknown', pd.NA)\n",
    "\n",
    "# Verificar si quedaron valores 'unknown'\n",
    "print(\"\\nDespués de la limpieza:\")\n",
    "print(df_clean.isin(['unknown']).sum())\n",
    "\n",
    "# Mostrar el número de filas antes y después\n",
    "print(f\"\\nNúmero de filas antes: {len(df)}\")\n",
    "print(f\"Número de filas después: {len(df_clean)}\")\n",
    "\n",
    "# Mostrar las columnas que aún tienen valores 'unknown' si las hay\n",
    "unknown_columns = df_clean.columns[df_clean.isin(['unknown']).any()].tolist()\n",
    "if unknown_columns:\n",
    "    print(\"\\nColumnas que aún tienen valores 'unknown':\")\n",
    "    print(unknown_columns)"
   ]
  },
  {
   "cell_type": "code",
   "execution_count": null,
   "metadata": {},
   "outputs": [],
   "source": [
    "# Análisis combinado de valores nulos y unknown\n",
    "print(\"Análisis de valores nulos y unknown por columna:\")\n",
    "\n",
    "# Crear un DataFrame para el análisis\n",
    "null_analysis = pd.DataFrame({\n",
    "    'Valores_Nulos': df_clean.isnull().sum(),\n",
    "    'Valores_Unknown': (df_clean == 'unknown').sum(),\n",
    "    'Total_Registros': len(df_clean)\n",
    "})\n",
    "\n",
    "# Calcular porcentajes\n",
    "null_analysis['Porcentaje_Nulos'] = (null_analysis['Valores_Nulos'] / null_analysis['Total_Registros']) * 100\n",
    "null_analysis['Porcentaje_Unknown'] = (null_analysis['Valores_Unknown'] / null_analysis['Total_Registros']) * 100\n",
    "\n",
    "# Mostrar solo las columnas que tienen valores nulos o unknown\n",
    "null_analysis = null_analysis[(null_analysis['Valores_Nulos'] > 0) | (null_analysis['Valores_Unknown'] > 0)]\n",
    "print(\"\\nResumen de valores nulos y unknown:\")\n",
    "print(null_analysis)\n",
    "\n",
    "# Análisis detallado de las columnas con valores nulos (que eran unknown)\n",
    "print(\"\\nAnálisis detallado de valores nulos por columna:\")\n",
    "for column in df_clean.columns:\n",
    "    if df_clean[column].isnull().any():\n",
    "        print(f\"\\nColumna: {column}\")\n",
    "        print(\"Distribución de valores:\")\n",
    "        print(df_clean[column].value_counts(normalize=True).round(3))"
   ]
  },
  {
   "cell_type": "markdown",
   "metadata": {},
   "source": [
    "Análisis de valores nulos por columna"
   ]
  },
  {
   "cell_type": "code",
   "execution_count": null,
   "metadata": {},
   "outputs": [],
   "source": [
    "print(\"Porcentaje de valores nulos por columna:\")\n",
    "for col in ['job', 'education', 'contact', 'poutcome']:\n",
    "    nulos = df_clean[col].isnull().sum()\n",
    "    porcentaje = (nulos / len(df_clean)) * 100\n",
    "    print(f\"{col}: {porcentaje:.2f}%\")"
   ]
  },
  {
   "cell_type": "markdown",
   "metadata": {},
   "source": [
    "Sustituir valores nulos en job, education y contact por la moda y eliminar las filas de poutcome "
   ]
  },
  {
   "cell_type": "code",
   "execution_count": null,
   "metadata": {},
   "outputs": [],
   "source": [
    "# Primero, veamos el número de filas original\n",
    "print(f\"Número de filas original: {len(df)}\")\n",
    "\n",
    "\n",
    "# Sustituir valores nulos en job, education y contact por la moda\n",
    "df_clean['job'] = df_clean['job'].fillna(df_clean['job'].mode()[0])\n",
    "df_clean['education'] = df_clean['education'].fillna(df_clean['education'].mode()[0])\n",
    "df_clean['contact'] = df_clean['contact'].fillna(df_clean['contact'].mode()[0])\n",
    "\n",
    "# Eliminar filas donde poutcome es nulo\n",
    "df_clean = df_clean.dropna(subset=['poutcome'])\n",
    "\n",
    "# Verificar resultados\n",
    "print(\"\\nValores nulos después del tratamiento:\")\n",
    "print(df_clean.isnull().sum())\n",
    "print(f\"\\nNúmero de filas después del tratamiento: {len(df_clean)}\")\n",
    "\n",
    "# Verificar la diferencia de filas\n",
    "print(f\"\\nFilas eliminadas: {len(df) - len(df_clean)}\")"
   ]
  }
 ],
 "metadata": {
  "kernelspec": {
   "display_name": "Python 3",
   "language": "python",
   "name": "python3"
  },
  "language_info": {
   "codemirror_mode": {
    "name": "ipython",
    "version": 3
   },
   "file_extension": ".py",
   "mimetype": "text/x-python",
   "name": "python",
   "nbconvert_exporter": "python",
   "pygments_lexer": "ipython3",
   "version": "3.12.1"
  }
 },
 "nbformat": 4,
 "nbformat_minor": 2
}
